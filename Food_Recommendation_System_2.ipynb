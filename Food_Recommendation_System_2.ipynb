{
  "metadata": {
    "kernelspec": {
      "language": "python",
      "display_name": "Python 3",
      "name": "python3"
    },
    "language_info": {
      "name": "python",
      "version": "3.7.12",
      "mimetype": "text/x-python",
      "codemirror_mode": {
        "name": "ipython",
        "version": 3
      },
      "pygments_lexer": "ipython3",
      "nbconvert_exporter": "python",
      "file_extension": ".py"
    },
    "colab": {
      "provenance": []
    }
  },
  "nbformat_minor": 0,
  "nbformat": 4,
  "cells": [
    {
      "cell_type": "code",
      "source": [
        "import numpy as np # linear algebra\n",
        "import pandas as pd # data processing, CSV file I/O (e.g. pd.read_csv)\n",
        "import os\n",
        "import nltk\n",
        "from nltk.corpus import stopwords\n",
        "from nltk.tokenize import word_tokenize\n",
        "from nltk.stem import WordNetLemmatizer\n",
        "from sklearn.feature_extraction.text import TfidfVectorizer\n",
        "from sklearn.metrics.pairwise import cosine_similarity\n",
        "from collections import Counter\n",
        "import matplotlib.pyplot as plt\n",
        "import regex as re\n",
        "from collections import Counter\n",
        "import pickle\n",
        "import json\n",
        "import time\n",
        "from scipy import sparse\n"
      ],
      "metadata": {
        "_uuid": "8f2839f25d086af736a60e9eeb907d3b93b6e0e5",
        "_cell_guid": "b1076dfc-b9ad-4769-8c92-a6c4dae69d19",
        "execution": {
          "iopub.status.busy": "2023-02-14T10:46:05.364640Z",
          "iopub.execute_input": "2023-02-14T10:46:05.366045Z",
          "iopub.status.idle": "2023-02-14T10:46:07.230381Z",
          "shell.execute_reply.started": "2023-02-14T10:46:05.365909Z",
          "shell.execute_reply": "2023-02-14T10:46:07.229091Z"
        },
        "trusted": true,
        "id": "RBnAGb_ajZQ5"
      },
      "execution_count": null,
      "outputs": []
    },
    {
      "cell_type": "code",
      "source": [
        "data = pd.read_csv('/kaggle/input/final-reduced-recipe-corpus-v1/final_reduced_recipe_corpus')"
      ],
      "metadata": {
        "execution": {
          "iopub.status.busy": "2023-02-14T10:46:07.232839Z",
          "iopub.execute_input": "2023-02-14T10:46:07.233345Z",
          "iopub.status.idle": "2023-02-14T10:46:14.811561Z",
          "shell.execute_reply.started": "2023-02-14T10:46:07.233293Z",
          "shell.execute_reply": "2023-02-14T10:46:14.810236Z"
        },
        "trusted": true,
        "id": "kRWo6dJGjZQ7",
        "outputId": "18b37251-cfbe-43c9-b9b7-70dada3391ca"
      },
      "execution_count": null,
      "outputs": [
        {
          "name": "stderr",
          "text": "/opt/conda/lib/python3.7/site-packages/IPython/core/interactiveshell.py:3552: DtypeWarning: Columns (111,113,114,115,116,117,118,119,120,121,122,123,124,125,126,127,128,129,130,131,132,133,134,135,136,137,138,139,140,141,142,143,144,145) have mixed types.Specify dtype option on import or set low_memory=False.\n  exec(code_obj, self.user_global_ns, self.user_ns)\n",
          "output_type": "stream"
        }
      ]
    },
    {
      "cell_type": "code",
      "source": [
        "data = data.drop('Unnamed: 0', axis = 1)\n",
        "data"
      ],
      "metadata": {
        "execution": {
          "iopub.status.busy": "2023-02-14T10:46:21.939422Z",
          "iopub.execute_input": "2023-02-14T10:46:21.939942Z",
          "iopub.status.idle": "2023-02-14T10:46:22.845703Z",
          "shell.execute_reply.started": "2023-02-14T10:46:21.939895Z",
          "shell.execute_reply": "2023-02-14T10:46:22.844585Z"
        },
        "trusted": true,
        "id": "THyqIyRVjZQ7",
        "outputId": "1ba2b52c-af33-4245-e715-debbc32f6e1f"
      },
      "execution_count": null,
      "outputs": [
        {
          "execution_count": 3,
          "output_type": "execute_result",
          "data": {
            "text/plain": "        recp_id         0          1          2           3          4  \\\n0        137739    arriba      baked     winter      squash    mexican   \n1         31490       bit  different  breakfast       pizza         30   \n2        112140   kitchen      chili       time        make     course   \n3         59389  alouette     potato         60      minute         le   \n4         44061     amish     tomato    ketchup     canning  weeknight   \n...         ...       ...        ...        ...         ...        ...   \n231614   486161    zydeco       soup        ham          60     minute   \n231615   493372    zydeco      spice        mix          15     minute   \n231616   308080    zydeco         ya         ya     deviled        egg   \n231617   298512     cooky     design      cooky       stick         30   \n231618   298509     cooky     design      sugar  shortbread      cooky   \n\n                  5       6       7       8  ...  134  135  136  137  138  \\\n0             style      60  minute      le  ...  NaN  NaN  NaN  NaN  NaN   \n1            minute      le    time    make  ...  NaN  NaN  NaN  NaN  NaN   \n2       preparation    main    dish   chili  ...  NaN  NaN  NaN  NaN  NaN   \n3              time    make  course    main  ...  NaN  NaN  NaN  NaN  NaN   \n4              time    make  course    main  ...  NaN  NaN  NaN  NaN  NaN   \n...             ...     ...     ...     ...  ...  ...  ...  ...  ...  ...   \n231614           le    time    make  course  ...  NaN  NaN  NaN  NaN  NaN   \n231615           le    time    make  course  ...  NaN  NaN  NaN  NaN  NaN   \n231616           60  minute      le    time  ...  NaN  NaN  NaN  NaN  NaN   \n231617       minute      le    time    make  ...  NaN  NaN  NaN  NaN  NaN   \n231618           30  minute      le    time  ...  NaN  NaN  NaN  NaN  NaN   \n\n        139  140  141  142  143  \n0       NaN  NaN  NaN  NaN  NaN  \n1       NaN  NaN  NaN  NaN  NaN  \n2       NaN  NaN  NaN  NaN  NaN  \n3       NaN  NaN  NaN  NaN  NaN  \n4       NaN  NaN  NaN  NaN  NaN  \n...     ...  ...  ...  ...  ...  \n231614  NaN  NaN  NaN  NaN  NaN  \n231615  NaN  NaN  NaN  NaN  NaN  \n231616  NaN  NaN  NaN  NaN  NaN  \n231617  NaN  NaN  NaN  NaN  NaN  \n231618  NaN  NaN  NaN  NaN  NaN  \n\n[231619 rows x 145 columns]",
            "text/html": "<div>\n<style scoped>\n    .dataframe tbody tr th:only-of-type {\n        vertical-align: middle;\n    }\n\n    .dataframe tbody tr th {\n        vertical-align: top;\n    }\n\n    .dataframe thead th {\n        text-align: right;\n    }\n</style>\n<table border=\"1\" class=\"dataframe\">\n  <thead>\n    <tr style=\"text-align: right;\">\n      <th></th>\n      <th>recp_id</th>\n      <th>0</th>\n      <th>1</th>\n      <th>2</th>\n      <th>3</th>\n      <th>4</th>\n      <th>5</th>\n      <th>6</th>\n      <th>7</th>\n      <th>8</th>\n      <th>...</th>\n      <th>134</th>\n      <th>135</th>\n      <th>136</th>\n      <th>137</th>\n      <th>138</th>\n      <th>139</th>\n      <th>140</th>\n      <th>141</th>\n      <th>142</th>\n      <th>143</th>\n    </tr>\n  </thead>\n  <tbody>\n    <tr>\n      <th>0</th>\n      <td>137739</td>\n      <td>arriba</td>\n      <td>baked</td>\n      <td>winter</td>\n      <td>squash</td>\n      <td>mexican</td>\n      <td>style</td>\n      <td>60</td>\n      <td>minute</td>\n      <td>le</td>\n      <td>...</td>\n      <td>NaN</td>\n      <td>NaN</td>\n      <td>NaN</td>\n      <td>NaN</td>\n      <td>NaN</td>\n      <td>NaN</td>\n      <td>NaN</td>\n      <td>NaN</td>\n      <td>NaN</td>\n      <td>NaN</td>\n    </tr>\n    <tr>\n      <th>1</th>\n      <td>31490</td>\n      <td>bit</td>\n      <td>different</td>\n      <td>breakfast</td>\n      <td>pizza</td>\n      <td>30</td>\n      <td>minute</td>\n      <td>le</td>\n      <td>time</td>\n      <td>make</td>\n      <td>...</td>\n      <td>NaN</td>\n      <td>NaN</td>\n      <td>NaN</td>\n      <td>NaN</td>\n      <td>NaN</td>\n      <td>NaN</td>\n      <td>NaN</td>\n      <td>NaN</td>\n      <td>NaN</td>\n      <td>NaN</td>\n    </tr>\n    <tr>\n      <th>2</th>\n      <td>112140</td>\n      <td>kitchen</td>\n      <td>chili</td>\n      <td>time</td>\n      <td>make</td>\n      <td>course</td>\n      <td>preparation</td>\n      <td>main</td>\n      <td>dish</td>\n      <td>chili</td>\n      <td>...</td>\n      <td>NaN</td>\n      <td>NaN</td>\n      <td>NaN</td>\n      <td>NaN</td>\n      <td>NaN</td>\n      <td>NaN</td>\n      <td>NaN</td>\n      <td>NaN</td>\n      <td>NaN</td>\n      <td>NaN</td>\n    </tr>\n    <tr>\n      <th>3</th>\n      <td>59389</td>\n      <td>alouette</td>\n      <td>potato</td>\n      <td>60</td>\n      <td>minute</td>\n      <td>le</td>\n      <td>time</td>\n      <td>make</td>\n      <td>course</td>\n      <td>main</td>\n      <td>...</td>\n      <td>NaN</td>\n      <td>NaN</td>\n      <td>NaN</td>\n      <td>NaN</td>\n      <td>NaN</td>\n      <td>NaN</td>\n      <td>NaN</td>\n      <td>NaN</td>\n      <td>NaN</td>\n      <td>NaN</td>\n    </tr>\n    <tr>\n      <th>4</th>\n      <td>44061</td>\n      <td>amish</td>\n      <td>tomato</td>\n      <td>ketchup</td>\n      <td>canning</td>\n      <td>weeknight</td>\n      <td>time</td>\n      <td>make</td>\n      <td>course</td>\n      <td>main</td>\n      <td>...</td>\n      <td>NaN</td>\n      <td>NaN</td>\n      <td>NaN</td>\n      <td>NaN</td>\n      <td>NaN</td>\n      <td>NaN</td>\n      <td>NaN</td>\n      <td>NaN</td>\n      <td>NaN</td>\n      <td>NaN</td>\n    </tr>\n    <tr>\n      <th>...</th>\n      <td>...</td>\n      <td>...</td>\n      <td>...</td>\n      <td>...</td>\n      <td>...</td>\n      <td>...</td>\n      <td>...</td>\n      <td>...</td>\n      <td>...</td>\n      <td>...</td>\n      <td>...</td>\n      <td>...</td>\n      <td>...</td>\n      <td>...</td>\n      <td>...</td>\n      <td>...</td>\n      <td>...</td>\n      <td>...</td>\n      <td>...</td>\n      <td>...</td>\n      <td>...</td>\n    </tr>\n    <tr>\n      <th>231614</th>\n      <td>486161</td>\n      <td>zydeco</td>\n      <td>soup</td>\n      <td>ham</td>\n      <td>60</td>\n      <td>minute</td>\n      <td>le</td>\n      <td>time</td>\n      <td>make</td>\n      <td>course</td>\n      <td>...</td>\n      <td>NaN</td>\n      <td>NaN</td>\n      <td>NaN</td>\n      <td>NaN</td>\n      <td>NaN</td>\n      <td>NaN</td>\n      <td>NaN</td>\n      <td>NaN</td>\n      <td>NaN</td>\n      <td>NaN</td>\n    </tr>\n    <tr>\n      <th>231615</th>\n      <td>493372</td>\n      <td>zydeco</td>\n      <td>spice</td>\n      <td>mix</td>\n      <td>15</td>\n      <td>minute</td>\n      <td>le</td>\n      <td>time</td>\n      <td>make</td>\n      <td>course</td>\n      <td>...</td>\n      <td>NaN</td>\n      <td>NaN</td>\n      <td>NaN</td>\n      <td>NaN</td>\n      <td>NaN</td>\n      <td>NaN</td>\n      <td>NaN</td>\n      <td>NaN</td>\n      <td>NaN</td>\n      <td>NaN</td>\n    </tr>\n    <tr>\n      <th>231616</th>\n      <td>308080</td>\n      <td>zydeco</td>\n      <td>ya</td>\n      <td>ya</td>\n      <td>deviled</td>\n      <td>egg</td>\n      <td>60</td>\n      <td>minute</td>\n      <td>le</td>\n      <td>time</td>\n      <td>...</td>\n      <td>NaN</td>\n      <td>NaN</td>\n      <td>NaN</td>\n      <td>NaN</td>\n      <td>NaN</td>\n      <td>NaN</td>\n      <td>NaN</td>\n      <td>NaN</td>\n      <td>NaN</td>\n      <td>NaN</td>\n    </tr>\n    <tr>\n      <th>231617</th>\n      <td>298512</td>\n      <td>cooky</td>\n      <td>design</td>\n      <td>cooky</td>\n      <td>stick</td>\n      <td>30</td>\n      <td>minute</td>\n      <td>le</td>\n      <td>time</td>\n      <td>make</td>\n      <td>...</td>\n      <td>NaN</td>\n      <td>NaN</td>\n      <td>NaN</td>\n      <td>NaN</td>\n      <td>NaN</td>\n      <td>NaN</td>\n      <td>NaN</td>\n      <td>NaN</td>\n      <td>NaN</td>\n      <td>NaN</td>\n    </tr>\n    <tr>\n      <th>231618</th>\n      <td>298509</td>\n      <td>cooky</td>\n      <td>design</td>\n      <td>sugar</td>\n      <td>shortbread</td>\n      <td>cooky</td>\n      <td>30</td>\n      <td>minute</td>\n      <td>le</td>\n      <td>time</td>\n      <td>...</td>\n      <td>NaN</td>\n      <td>NaN</td>\n      <td>NaN</td>\n      <td>NaN</td>\n      <td>NaN</td>\n      <td>NaN</td>\n      <td>NaN</td>\n      <td>NaN</td>\n      <td>NaN</td>\n      <td>NaN</td>\n    </tr>\n  </tbody>\n</table>\n<p>231619 rows × 145 columns</p>\n</div>"
          },
          "metadata": {}
        }
      ]
    },
    {
      "cell_type": "code",
      "source": [
        "RAW_interactions = pd.read_csv('/kaggle/input/food-com-recipes-and-user-interactions/RAW_interactions.csv')\n",
        "# /kaggle/input/food-com-recipes-and-user-interactions/ingr_map.pkl\n",
        "PP_recipes = pd.read_csv('/kaggle/input/food-com-recipes-and-user-interactions/PP_recipes.csv')\n",
        "RAW_recipes = pd.read_csv('/kaggle/input/food-com-recipes-and-user-interactions/RAW_recipes.csv')\n",
        "interactions_train = pd.read_csv('/kaggle/input/food-com-recipes-and-user-interactions/interactions_train.csv')\n",
        "interactions_test = pd.read_csv('/kaggle/input/food-com-recipes-and-user-interactions/interactions_test.csv')\n",
        "PP_users = pd.read_csv('/kaggle/input/food-com-recipes-and-user-interactions/PP_users.csv')\n",
        "interactions_validation = pd.read_csv('/kaggle/input/food-com-recipes-and-user-interactions/interactions_validation.csv')\n"
      ],
      "metadata": {
        "execution": {
          "iopub.status.busy": "2023-02-14T10:46:26.169476Z",
          "iopub.execute_input": "2023-02-14T10:46:26.169920Z",
          "iopub.status.idle": "2023-02-14T10:46:49.521906Z",
          "shell.execute_reply.started": "2023-02-14T10:46:26.169884Z",
          "shell.execute_reply": "2023-02-14T10:46:49.520514Z"
        },
        "trusted": true,
        "id": "HVYWRfIhjZQ8"
      },
      "execution_count": null,
      "outputs": []
    },
    {
      "cell_type": "code",
      "source": [
        "main_document = []\n",
        "\n",
        "for i in range(data.shape[0]):\n",
        "    test_str = ''\n",
        "    \n",
        "    for word in list(data.iloc[i])[1:]:\n",
        "        if not isinstance(word, float):\n",
        "            test_str += word + ' '\n",
        "    \n",
        "    main_document.append(test_str)"
      ],
      "metadata": {
        "execution": {
          "iopub.status.busy": "2023-02-14T10:46:49.524039Z",
          "iopub.execute_input": "2023-02-14T10:46:49.524533Z",
          "iopub.status.idle": "2023-02-14T10:47:56.659081Z",
          "shell.execute_reply.started": "2023-02-14T10:46:49.524490Z",
          "shell.execute_reply": "2023-02-14T10:47:56.657831Z"
        },
        "trusted": true,
        "id": "acUKmQqMjZQ8"
      },
      "execution_count": null,
      "outputs": []
    },
    {
      "cell_type": "code",
      "source": [
        "len(PP_users.iloc[0]['ratings']), len(PP_users.iloc[0]['items'])"
      ],
      "metadata": {
        "execution": {
          "iopub.status.busy": "2023-02-14T07:56:17.241678Z",
          "iopub.execute_input": "2023-02-14T07:56:17.242136Z",
          "iopub.status.idle": "2023-02-14T07:56:17.251656Z",
          "shell.execute_reply.started": "2023-02-14T07:56:17.242091Z",
          "shell.execute_reply": "2023-02-14T07:56:17.250159Z"
        },
        "trusted": true,
        "id": "Kqnd0C0-jZQ8",
        "outputId": "cd24e6b3-6236-4dd0-c708-f955db6b72de"
      },
      "execution_count": null,
      "outputs": [
        {
          "execution_count": 9,
          "output_type": "execute_result",
          "data": {
            "text/plain": "(155, 221)"
          },
          "metadata": {}
        }
      ]
    },
    {
      "cell_type": "code",
      "source": [
        "# main_document\n",
        "main_document = np.array(main_document)"
      ],
      "metadata": {
        "execution": {
          "iopub.status.busy": "2023-02-14T10:48:01.292086Z",
          "iopub.execute_input": "2023-02-14T10:48:01.292657Z",
          "iopub.status.idle": "2023-02-14T10:48:02.163697Z",
          "shell.execute_reply.started": "2023-02-14T10:48:01.292607Z",
          "shell.execute_reply": "2023-02-14T10:48:02.162641Z"
        },
        "trusted": true,
        "id": "an62ccmIjZQ8"
      },
      "execution_count": null,
      "outputs": []
    },
    {
      "cell_type": "code",
      "source": [
        "tfidf = TfidfVectorizer()\n",
        "result = tfidf.fit_transform(main_document)"
      ],
      "metadata": {
        "execution": {
          "iopub.status.busy": "2023-02-14T10:48:02.423989Z",
          "iopub.execute_input": "2023-02-14T10:48:02.424719Z",
          "iopub.status.idle": "2023-02-14T10:48:14.791104Z",
          "shell.execute_reply.started": "2023-02-14T10:48:02.424681Z",
          "shell.execute_reply": "2023-02-14T10:48:14.789798Z"
        },
        "trusted": true,
        "id": "ldQC9je8jZQ8"
      },
      "execution_count": null,
      "outputs": []
    },
    {
      "cell_type": "code",
      "source": [
        "# sparse.save_npz(\"/kaggle/working/final_tfidf_mat.npz\", result)\n",
        "# your_matrix_back = sparse.load_npz(\"yourmatrix.npz\")"
      ],
      "metadata": {
        "execution": {
          "iopub.status.busy": "2023-02-06T18:41:25.971354Z",
          "iopub.execute_input": "2023-02-06T18:41:25.971894Z",
          "iopub.status.idle": "2023-02-06T18:41:35.533081Z",
          "shell.execute_reply.started": "2023-02-06T18:41:25.971853Z",
          "shell.execute_reply": "2023-02-06T18:41:35.531701Z"
        },
        "trusted": true,
        "id": "4hQNyxw-jZQ9"
      },
      "execution_count": null,
      "outputs": []
    },
    {
      "cell_type": "code",
      "source": [
        "# test on users\n",
        "PP_users.iloc[0]"
      ],
      "metadata": {
        "execution": {
          "iopub.status.busy": "2023-02-14T10:51:54.265033Z",
          "iopub.execute_input": "2023-02-14T10:51:54.265572Z",
          "iopub.status.idle": "2023-02-14T10:51:54.276714Z",
          "shell.execute_reply.started": "2023-02-14T10:51:54.265519Z",
          "shell.execute_reply": "2023-02-14T10:51:54.275331Z"
        },
        "trusted": true,
        "id": "XmTA7hBzjZQ9",
        "outputId": "4eb2085d-fd92-4eae-9ef3-db0b4775503a"
      },
      "execution_count": null,
      "outputs": [
        {
          "execution_count": 12,
          "output_type": "execute_result",
          "data": {
            "text/plain": "u                                                             0\ntechniques    [8, 0, 0, 5, 6, 0, 0, 1, 0, 9, 1, 0, 0, 0, 1, ...\nitems         [1118, 27680, 32541, 137353, 16428, 28815, 658...\nn_items                                                      31\nratings       [5.0, 5.0, 5.0, 5.0, 5.0, 5.0, 5.0, 4.0, 4.0, ...\nn_ratings                                                    31\nName: 0, dtype: object"
          },
          "metadata": {}
        }
      ]
    },
    {
      "cell_type": "code",
      "source": [
        "items_interacted = list(map(int,PP_users.iloc[0]['items'][1:-1].split(', ')))\n",
        "# items_interacted"
      ],
      "metadata": {
        "execution": {
          "iopub.status.busy": "2023-02-14T10:51:54.704843Z",
          "iopub.execute_input": "2023-02-14T10:51:54.706108Z",
          "iopub.status.idle": "2023-02-14T10:51:54.713216Z",
          "shell.execute_reply.started": "2023-02-14T10:51:54.706051Z",
          "shell.execute_reply": "2023-02-14T10:51:54.711843Z"
        },
        "trusted": true,
        "id": "YjrLeGDKjZQ9"
      },
      "execution_count": null,
      "outputs": []
    },
    {
      "cell_type": "code",
      "source": [
        "# getting receipe id from items \n",
        "receipe_id = list(PP_recipes[PP_recipes['i'].isin(items_interacted)]['id'])\n",
        "# receipe_id"
      ],
      "metadata": {
        "execution": {
          "iopub.status.busy": "2023-02-14T10:51:57.141947Z",
          "iopub.execute_input": "2023-02-14T10:51:57.142720Z",
          "iopub.status.idle": "2023-02-14T10:51:57.154242Z",
          "shell.execute_reply.started": "2023-02-14T10:51:57.142663Z",
          "shell.execute_reply": "2023-02-14T10:51:57.152977Z"
        },
        "trusted": true,
        "id": "0MzdpnxijZQ9"
      },
      "execution_count": null,
      "outputs": []
    },
    {
      "cell_type": "code",
      "source": [
        "index_in_main_doc = list(data[data['recp_id'].isin(receipe_id)].index)\n",
        "# index_in_main_doc"
      ],
      "metadata": {
        "execution": {
          "iopub.status.busy": "2023-02-05T13:07:38.478955Z",
          "iopub.execute_input": "2023-02-05T13:07:38.479351Z",
          "iopub.status.idle": "2023-02-05T13:07:38.491448Z",
          "shell.execute_reply.started": "2023-02-05T13:07:38.479320Z",
          "shell.execute_reply": "2023-02-05T13:07:38.490428Z"
        },
        "trusted": true,
        "id": "bx3kiKDgjZQ9"
      },
      "execution_count": null,
      "outputs": []
    },
    {
      "cell_type": "code",
      "source": [
        "user_str = ' '.join([main_document[i] for i in index_in_main_doc])\n",
        "# user_str"
      ],
      "metadata": {
        "execution": {
          "iopub.status.busy": "2023-02-05T13:07:39.296113Z",
          "iopub.execute_input": "2023-02-05T13:07:39.296527Z",
          "iopub.status.idle": "2023-02-05T13:07:39.302063Z",
          "shell.execute_reply.started": "2023-02-05T13:07:39.296495Z",
          "shell.execute_reply": "2023-02-05T13:07:39.300859Z"
        },
        "trusted": true,
        "id": "I6Kli1R_jZQ9"
      },
      "execution_count": null,
      "outputs": []
    },
    {
      "cell_type": "code",
      "source": [
        "# converting the user_str to array based on our corpus and finding the cosine similarity.\n",
        "# it will take some time as we have 2.3 lac recipes\n",
        "new_user_arr = tfidf.transform([user_str]).toarray()\n",
        "\n",
        "test = [cosine_similarity(new_user_arr, x.toarray()) for x in result]"
      ],
      "metadata": {
        "execution": {
          "iopub.status.busy": "2023-02-05T05:10:50.603785Z",
          "iopub.execute_input": "2023-02-05T05:10:50.604169Z",
          "iopub.status.idle": "2023-02-05T05:15:51.467141Z",
          "shell.execute_reply.started": "2023-02-05T05:10:50.604136Z",
          "shell.execute_reply": "2023-02-05T05:15:51.465492Z"
        },
        "trusted": true,
        "id": "9BFbG36djZQ9"
      },
      "execution_count": null,
      "outputs": []
    },
    {
      "cell_type": "code",
      "source": [
        "temp_test = np.array(test)[:,0,0]\n",
        "# temp_test"
      ],
      "metadata": {
        "execution": {
          "iopub.status.busy": "2023-02-05T05:17:39.581628Z",
          "iopub.execute_input": "2023-02-05T05:17:39.582066Z",
          "iopub.status.idle": "2023-02-05T05:17:39.686707Z",
          "shell.execute_reply.started": "2023-02-05T05:17:39.582026Z",
          "shell.execute_reply": "2023-02-05T05:17:39.685678Z"
        },
        "trusted": true,
        "id": "nvnke6bvjZQ-"
      },
      "execution_count": null,
      "outputs": []
    },
    {
      "cell_type": "code",
      "source": [
        "# recommending 5 recipes that user has no interacted with based on his/her taste\n",
        "count = -1\n",
        "i = 0\n",
        "sorted_index = np.argsort(temp_test)\n",
        "while i < 5:\n",
        "    if not data.iloc[sorted_index[count]]['recp_id'] in receipe_id:\n",
        "        print(data.iloc[sorted_index[count]]['recp_id'], list(RAW_recipes[RAW_recipes['id'] == data.iloc[sorted_index[count]]['recp_id']]['name'])[0])\n",
        "        count -= 1\n",
        "        i += 1\n",
        "    else:\n",
        "        count -= 1\n",
        "    "
      ],
      "metadata": {
        "execution": {
          "iopub.status.busy": "2023-02-05T05:29:59.552119Z",
          "iopub.execute_input": "2023-02-05T05:29:59.552521Z",
          "iopub.status.idle": "2023-02-05T05:29:59.598115Z",
          "shell.execute_reply.started": "2023-02-05T05:29:59.552488Z",
          "shell.execute_reply": "2023-02-05T05:29:59.596808Z"
        },
        "trusted": true,
        "id": "PuQ23fUbjZQ-",
        "outputId": "c98e40d2-427d-4851-cd15-35017fd3f9f9"
      },
      "execution_count": null,
      "outputs": [
        {
          "name": "stdout",
          "text": "83822 black bean onion soup\n25306 quick and easy seasoned black beans\n315425 delicious dirty rice\n56201 turkey black bean chili\n67639 green beans with tomatoes\n",
          "output_type": "stream"
        }
      ]
    },
    {
      "cell_type": "code",
      "source": [
        "for r in receipe_id:\n",
        "    print(r, list(RAW_recipes[RAW_recipes['id'] == r]['name'])[0])"
      ],
      "metadata": {
        "execution": {
          "iopub.status.busy": "2023-02-05T05:35:50.083171Z",
          "iopub.execute_input": "2023-02-05T05:35:50.083627Z",
          "iopub.status.idle": "2023-02-05T05:35:50.116056Z",
          "shell.execute_reply.started": "2023-02-05T05:35:50.083573Z",
          "shell.execute_reply": "2023-02-05T05:35:50.114522Z"
        },
        "trusted": true,
        "id": "xNXLwtOVjZQ-",
        "outputId": "4467dc3d-a1d9-4218-b224-54b975ec69c6"
      },
      "execution_count": null,
      "outputs": [
        {
          "name": "stdout",
          "text": "44244 portuguese pork ragout with sweet peppers\n40852 sauteed salmon with lime honey sauce\n69501 fried broccoli\n39907 beans  black eyed peas  and cashew salad\n4764 2 step pumpkin cheesecake\n36653 easy creamy yogurt pie\n26259 mediterranean broccoli salad\n16391 yummy n  easiest  warm blueberry sauce\n40893 white bean   green chile pepper soup\n49387 oven fried eggplant  aubergine\n72929 snow peas with red bell peppers\n63965 lentil and orzo salad\n38104 rocky mount chicken\n32377 basil  cilantro and macadamia nut chicken\n81845 southwest spaghetti squash\n20500 toasted orzo pilaf\n16954 black beans with mango sauce\n40753 warm spinach salad\n30565 oh my d lux chocolate chip cookies\n34509 bananas au gratin\n40923 quick broccoli slaw\n34513 roasted asparagus   shiitake mushrooms\n79964 squash casserole  charlotte s barclay cafeteria\n69545 low carb key lime pie\n77818 veal cutlets with olive  tomato and anchovy sauce\n18007 key lime cheesecake squares\n36381 sweet potato stew with orange juice and black beans\n71569 low fat chicken cassoulet\n49064 slow cooker hoppin  john\n29493 honey roasted pork loin\n31503 couscous with chickpeas\n",
          "output_type": "stream"
        }
      ]
    },
    {
      "cell_type": "markdown",
      "source": [
        "### test for faster solution"
      ],
      "metadata": {
        "id": "577QQKSejZQ-"
      }
    },
    {
      "cell_type": "code",
      "source": [
        "new_user_arr = tfidf.transform([user_str]).toarray()\n",
        "\n",
        "cosine_similarity(new_user_arr, result[np.random.randint(0, result.shape[0] - 1, 10000)].toarray())"
      ],
      "metadata": {
        "execution": {
          "iopub.status.busy": "2023-02-05T13:12:57.243674Z",
          "iopub.execute_input": "2023-02-05T13:12:57.244126Z",
          "iopub.status.idle": "2023-02-05T13:13:01.776891Z",
          "shell.execute_reply.started": "2023-02-05T13:12:57.244088Z",
          "shell.execute_reply": "2023-02-05T13:13:01.775734Z"
        },
        "trusted": true,
        "id": "P06SXksUjZQ_",
        "outputId": "b98ea757-8f2c-41ee-af57-51005f6e8c8f"
      },
      "execution_count": null,
      "outputs": [
        {
          "execution_count": 21,
          "output_type": "execute_result",
          "data": {
            "text/plain": "array([[0.27613114, 0.08729421, 0.15544289, ..., 0.28076402, 0.16479874,\n        0.18851434]])"
          },
          "metadata": {}
        }
      ]
    },
    {
      "cell_type": "code",
      "source": [
        "def get_similarity_array(user_id, PP_users, main_document,doc_mat, data, RAW_recipes, n):\n",
        "    items_interacted = list(map(int,PP_users[PP_users['u'] == user_id]['items'][user_id][1:-1].split(', ')))\n",
        "    user_str = ' '.join(main_document[items_interacted])\n",
        "    new_user_arr = tfidf.transform([user_str]).toarray()\n",
        "    rnd_no = np.random.randint(0, doc_mat.shape[0] - 1, n)\n",
        "    cs = cosine_similarity(new_user_arr, doc_mat[rnd_no].toarray())\n",
        "#     cs = np.array([cosine_similarity(new_user_arr, x.toarray()) for x in doc_mat])\n",
        "    items_interacted = list(map(int,PP_users.iloc[user_id]['items'][1:-1].split(', ')))\n",
        "    receipe_id = list(PP_recipes[PP_recipes['i'].isin(items_interacted)]['id'])\n",
        "    sorted_index = np.argsort(cs)[0]\n",
        "    count = -1\n",
        "    i = 0\n",
        "    while i < 5:\n",
        "        if not data.iloc[rnd_no[sorted_index[count]]]['recp_id'] in receipe_id:\n",
        "            test = main_document[rnd_no[sorted_index[count]]]\n",
        "            test = tfidf.transform([test]).toarray()\n",
        "            print(data.iloc[rnd_no[sorted_index[count]]]['recp_id'], list(RAW_recipes[RAW_recipes['id'] == data.iloc[rnd_no[sorted_index[count]]]['recp_id']]['name'])[0], np.linalg.norm(test - new_user_arr))\n",
        "            count -= 1\n",
        "            i += 1\n",
        "        else:\n",
        "            count -= 1"
      ],
      "metadata": {
        "execution": {
          "iopub.status.busy": "2023-02-14T10:48:16.432892Z",
          "iopub.execute_input": "2023-02-14T10:48:16.433669Z",
          "iopub.status.idle": "2023-02-14T10:48:16.446233Z",
          "shell.execute_reply.started": "2023-02-14T10:48:16.433625Z",
          "shell.execute_reply": "2023-02-14T10:48:16.444684Z"
        },
        "trusted": true,
        "id": "9Gb_fWM_jZQ_"
      },
      "execution_count": null,
      "outputs": []
    },
    {
      "cell_type": "code",
      "source": [
        "t = time.time()\n",
        "get_similarity_array(1001,  PP_users, main_document, result, data, RAW_recipes, 10000)\n",
        "print(f'Time taken -> {time.time() - t}')"
      ],
      "metadata": {
        "execution": {
          "iopub.status.busy": "2023-02-14T10:48:20.443254Z",
          "iopub.execute_input": "2023-02-14T10:48:20.444352Z",
          "iopub.status.idle": "2023-02-14T10:48:24.893522Z",
          "shell.execute_reply.started": "2023-02-14T10:48:20.444312Z",
          "shell.execute_reply": "2023-02-14T10:48:24.887362Z"
        },
        "trusted": true,
        "id": "sDLQy5IqjZQ_",
        "outputId": "18b0400a-ba9f-49df-bdb1-0c48817d1be2"
      },
      "execution_count": null,
      "outputs": [
        {
          "name": "stdout",
          "text": "16166 stuffed baked tomatoes 1.1104449872992224\n406519 southwestern shepherds pie with chicken and chili mashed potato 1.1110570988821187\n281845 sunday chicken stew 1.1127539020923625\n27729 sunday dinner chicken 1.118673438456806\n34653 witches  breath dip 1.118990976145168\nTime taken -> 4.437320947647095\n",
          "output_type": "stream"
        }
      ]
    },
    {
      "cell_type": "markdown",
      "source": [
        "## Conversational RS"
      ],
      "metadata": {
        "id": "0xjtVsoejZQ_"
      }
    },
    {
      "cell_type": "code",
      "source": [
        "user_id = 100\n",
        "ep = []\n",
        "n = 10000\n",
        "items_interacted = list(map(int,PP_users[PP_users['u'] == user_id]['items'][user_id][1:-1].split(', ')))\n",
        "selected = None\n",
        "lmbda = 0.6\n",
        "while True:\n",
        "    if not selected:\n",
        "        user_str = ' '.join(main_document[items_interacted])\n",
        "        new_user_arr = tfidf.transform([user_str]).toarray()\n",
        "        rnd_no = np.random.randint(0, result.shape[0] - 1, n)\n",
        "        cs = cosine_similarity(new_user_arr, result[rnd_no].toarray())\n",
        "        sorted_index = np.argsort(cs)[0]\n",
        "        count = -1\n",
        "        i = 0\n",
        "\n",
        "        temp = []\n",
        "        while i < 5:\n",
        "            if not data.iloc[rnd_no[sorted_index[count]]]['recp_id'] in receipe_id:\n",
        "                temp.append(data.iloc[rnd_no[sorted_index[count]]]['recp_id'])\n",
        "                print(abs(i + 1), ':',data.iloc[rnd_no[sorted_index[count]]]['recp_id'], list(RAW_recipes[RAW_recipes['id'] == data.iloc[rnd_no[sorted_index[count]]]['recp_id']]['name'])[0])\n",
        "                count -= 1\n",
        "                i += 1\n",
        "            else:\n",
        "                count -= 1\n",
        "\n",
        "        user_inp = input('Do you like any? Enter YES after the number of dish if you liked or enter the number of dish you would like to see similar.')\n",
        "\n",
        "        if 'YES' in user_inp:\n",
        "            print('Adding this dish to your profile.')\n",
        "            print('Enjoy your dish!!')\n",
        "            break\n",
        "        else:\n",
        "            print()\n",
        "            selected = temp[int(user_inp)-1]\n",
        "    else:\n",
        "        ep.append(main_document[data[data['recp_id'] == selected].index[0]])\n",
        "        ep_str = ' '.join(ep)\n",
        "        ep_user_arr = tfidf.transform([ep_str]).toarray()\n",
        "        \n",
        "        final_user_arr = lmbda * new_user_arr + (1 - lmbda) * ep_user_arr\n",
        "        \n",
        "        rnd_no = np.random.randint(0, result.shape[0] - 1, n)\n",
        "        cs = cosine_similarity(final_user_arr, result[rnd_no].toarray())\n",
        "        sorted_index = np.argsort(cs)[0]\n",
        "        count = -1\n",
        "        i = 0\n",
        "\n",
        "        temp = []\n",
        "        while i < 5:\n",
        "            if not data.iloc[rnd_no[sorted_index[count]]]['recp_id'] in receipe_id:\n",
        "                temp.append(data.iloc[rnd_no[sorted_index[count]]]['recp_id'])\n",
        "                print(abs(i + 1), ':',data.iloc[rnd_no[sorted_index[count]]]['recp_id'], list(RAW_recipes[RAW_recipes['id'] == data.iloc[rnd_no[sorted_index[count]]]['recp_id']]['name'])[0])\n",
        "                count -= 1\n",
        "                i += 1\n",
        "            else:\n",
        "                count -= 1\n",
        "\n",
        "        user_inp = input('Do you like any? Enter YES after the number of dish if you liked or enter the number of dish you would like to see similar.')\n",
        "\n",
        "        if 'YES' in user_inp:\n",
        "            print('Adding this dish to your profile.')\n",
        "            print('Enjoy your dish!!')\n",
        "            break\n",
        "        else:\n",
        "            print()\n",
        "            selected = temp[int(user_inp)-1]"
      ],
      "metadata": {
        "execution": {
          "iopub.status.busy": "2023-02-14T10:52:08.991617Z",
          "iopub.execute_input": "2023-02-14T10:52:08.992054Z"
        },
        "trusted": true,
        "id": "fReeTg4QjZRA",
        "outputId": "7c1d89dc-8ba2-45bd-b816-f179206c88ed"
      },
      "execution_count": null,
      "outputs": [
        {
          "name": "stdout",
          "text": "1 : 128046 30 minute one pan chicken meal\n2 : 153826 spicy pepper chicken pasta\n3 : 227606 lemon and tomato chicken\n4 : 187096 chicken pepper skillet\n5 : 95472 caramelized tomatoes\n",
          "output_type": "stream"
        },
        {
          "output_type": "stream",
          "name": "stdin",
          "text": "Do you like any? Enter YES after the number of dish if you liked or enter the number of dish you would like to see similar. 4\n"
        },
        {
          "name": "stdout",
          "text": "\n1 : 191339 braised chicken with green peppers and tomatoes\n2 : 147775 chicken zing\n3 : 160982 herbed chicken tenders\n4 : 67423 chicken   peppers\n5 : 392831 chicken and rice chowder\n",
          "output_type": "stream"
        },
        {
          "output_type": "stream",
          "name": "stdin",
          "text": "Do you like any? Enter YES after the number of dish if you liked or enter the number of dish you would like to see similar. 3\n"
        },
        {
          "name": "stdout",
          "text": "\n1 : 80868 gingered chicken breast\n2 : 227606 lemon and tomato chicken\n3 : 367240 chicken calle ocho\n4 : 383171 creamy chicken and spinach pasta\n5 : 105598 shredded mexican chicken\n",
          "output_type": "stream"
        }
      ]
    },
    {
      "cell_type": "markdown",
      "source": [
        "##Refernces:\n",
        "Datasets: https://www.kaggle.com/datasets/shuyangli94/food-com-recipes-and-user-interactions"
      ],
      "metadata": {
        "id": "LxkmVLbhi-J9"
      }
    }
  ]
}